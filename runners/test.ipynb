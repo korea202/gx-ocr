{
 "cells": [
  {
   "cell_type": "code",
   "execution_count": 12,
   "id": "7c6e614d",
   "metadata": {},
   "outputs": [
    {
     "name": "stderr",
     "output_type": "stream",
     "text": [
      "Loading checkpoint shards: 100%|██████████| 2/2 [00:01<00:00,  1.54it/s]\n"
     ]
    },
    {
     "name": "stdout",
     "output_type": "stream",
     "text": [
      "['```json\\n[\\n\\t{\"bbox_2d\": [106, 345, 178, 496], \"text_content\": \"EGG DROP\"},\\n\\t{\"bbox_2d\": [106, 500, 178, 651], \"text_content\": \"주문번호 : 0015\"},\\n\\t{\"bbox_2d\": [106, 654, 178, 704], \"text_content\": \"점포명 : 에그드랍 동성로중앙점\"},\\n\\t{\"bbox_2d\": [106, 705, 178, 755], \"text_content\": \"주소 : 대구중구 동성로1길 29-35\"},\\n\\t{\"bbox_2d\": [106, 756, 178, 806], \"text_content\": \"사업자번호 : 891-21-00828\"},\\n\\t{\"bbox_2d\": [106, 807, 178, 857], \"text_content\": \"대표자명 :\"},\\n\\t{\"bbox_2d\": [106, 858, 178, 908], \"text_content\": \"전화번호 :\"},\\n\\t{\"bbox_2d\": [106, 909, 178, 959], \"text_content\": \"[신용카드승인]\"},\\n\\t{\"bbox_2d\": [106, 960, 178, 1010], \"text_content\": \"카드종류 : 시티카드\"},\\n\\t{\"bbox_2d\": [106, 1011, 178, 1061], \"text_content\": \"카드번호 : 524144***********\"},\\n\\t{\"bbox_2d\": [106, 1062, 178, 1112], \"text_content\": \"승인번호 : 76764996\"},\\n\\t{\"bbox_2d\": [106, 1113, 178, 1163], \"text_content\": \"할부기간 : 일시불\"},\\n\\t{\"bbox_2d\": [106, 1164, 178, 1214], \"text_content\": \"이름 :\"},\\n\\t{\"bbox_2d\": [106, 1215, 178, 1265], \"text_content\": \"개수 :\"},\\n\\t{\"bbox_2d\": [106, 1266, 178, 1316], \"text_content\": \"가격 :\"},\\n\\t{\"bbox_2d\": [106, 1317, 178, 1367], \"text_content\": \"미스터에그 : 2\"},\\n\\t{\"bbox_2d\": [106, 1368, 178, 1418], \"text_content\": \"포장추가금액 : 1\"},\\n\\t{\"bbox_2d\": [106, 1419, 178, 1469], \"text_content\": \"총액 :\"},\\n\\t{\"bbox_2d\": [106, 1470, 178, 1520], \"text_content\": \"판매금액 : 6.637원\"},\\n\\t{\"bbox_2d\": [106, 1521, 178, 1571], \"text_content\": \"부가세액 : 663원\"},\\n\\t{\"bbox_2d\": [106, 1572, 178, 1622], \"text_content\": \"총액 : 7.300원\"},\\n\\t{\"bbox_2d\": [106, 1623, 178, 1673], \"text_content\": \"결제일시 : 21-12-29 13:35:02\"},\\n\\t{\"bbox_2d\": [106, 1674, 178, 1724], \"text_content\": \"영수증번호 : 2112290015-1\"},\\n\\t{\"bbox_2d\": [106, 1725, 178, 1775], \"text_content\": \"<무인결제솔루션 문의 UNOSPAY> Tel. 1800-4520\"},\\n]\\n```']\n"
     ]
    }
   ],
   "source": [
    "import lightning.pytorch as pl\n",
    "import torch\n",
    "from transformers import AutoProcessor, Qwen2VLForConditionalGeneration, Qwen2_5_VLForConditionalGeneration\n",
    "from qwen_vl_utils import process_vision_info\n",
    "import torchvision.transforms as T\n",
    "from PIL import Image\n",
    "import json\n",
    "import re\n",
    "\n",
    "\n",
    "def clean_json_str(s):\n",
    "    # 코드블록 마크다운 제거\n",
    "    s = re.sub(r\"^```\", \"\", s.strip(), flags=re.MULTILINE)\n",
    "    return s\n",
    "\n",
    "# default processer\n",
    "model_name = \"Qwen/Qwen2.5-VL-3B-Instruct\" #Qwen/Qwen2.5-VL-3B-Instruct, Qwen/Qwen2-VL-2B-Instruct, Qwen/Qwen2.5-VL-7B-Instruct\n",
    "model = Qwen2_5_VLForConditionalGeneration.from_pretrained(model_name, torch_dtype=\"auto\", device_map=\"auto\")\n",
    "\n",
    "processor = AutoProcessor.from_pretrained(model_name)\n",
    "\n",
    "# The default range for the number of visual tokens per image in the model is 4-16384.\n",
    "# You can set min_pixels and max_pixels according to your needs, such as a token range of 256-1280, to balance performance and cost.\n",
    "# min_pixels = 256*28*28\n",
    "# max_pixels = 1280*28*28\n",
    "# processor = AutoProcessor.from_pretrained(\"Qwen/Qwen2-VL-7B-Instruct\", min_pixels=min_pixels, max_pixels=max_pixels)\n",
    "pil_image1 = Image.open(\"/data/ephemeral/home/work/python/gx-ocr/data/datasets/images/test/drp.en_ko.in_house.selectstar_000002.jpg\")\n",
    "pil_image2 = Image.open(\"/data/ephemeral/home/work/python/gx-ocr/data/datasets/images/test/drp.en_ko.in_house.selectstar_000013.jpg\")\n",
    "\n",
    "text = \"Detect all text in the image and return their locations in the form of coordinates.  ex) [{'bbox_2d': [106, 345, 178, 496]}, ...]\"\n",
    "\n",
    "messages = [\n",
    "\n",
    "    #[{\"role\": \"user\", \"content\": [{\"type\": \"image\", \"image\": pil_image1}, {\"type\": \"text\", \"text\": text}]}],\n",
    "    [{\"role\": \"user\", \"content\": [{\"type\": \"image\", \"image\": pil_image2}, {\"type\": \"text\", \"text\": text}]}],\n",
    "\n",
    "]\n",
    "\n",
    "# Preparation for inference\n",
    "text = processor.apply_chat_template(\n",
    "    messages, tokenize=False, add_generation_prompt=True\n",
    ")\n",
    "\n",
    "#print(text)\n",
    "\n",
    "\n",
    "image_inputs, video_inputs = process_vision_info(messages)\n",
    "inputs = processor(\n",
    "    text=text,\n",
    "    images=image_inputs,\n",
    "    padding=True,\n",
    "    return_tensors=\"pt\",\n",
    ")\n",
    "inputs = inputs.to(\"cuda\")\n",
    "\n",
    "# Inference: Generation of the output\n",
    "generated_ids = model.generate(**inputs, max_new_tokens=4096)\n",
    "generated_ids_trimmed = [\n",
    "    out_ids[len(in_ids) :] for in_ids, out_ids in zip(inputs.input_ids, generated_ids)\n",
    "]\n",
    "output_text = processor.batch_decode(\n",
    "    generated_ids_trimmed, skip_special_tokens=True, clean_up_tokenization_spaces=False\n",
    ")\n",
    "#print(clean_json_str(output_text[0]))\n",
    "print(output_text)"
   ]
  }
 ],
 "metadata": {
  "kernelspec": {
   "display_name": "gx-ocr (3.11.13)",
   "language": "python",
   "name": "python3"
  },
  "language_info": {
   "codemirror_mode": {
    "name": "ipython",
    "version": 3
   },
   "file_extension": ".py",
   "mimetype": "text/x-python",
   "name": "python",
   "nbconvert_exporter": "python",
   "pygments_lexer": "ipython3",
   "version": "3.11.13"
  }
 },
 "nbformat": 4,
 "nbformat_minor": 5
}
